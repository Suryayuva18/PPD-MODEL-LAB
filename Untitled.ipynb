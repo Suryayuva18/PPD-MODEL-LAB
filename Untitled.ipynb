{
 "cells": [
  {
   "cell_type": "code",
   "execution_count": 2,
   "id": "420b5627-6982-4e67-8dfa-33107a2a09d5",
   "metadata": {},
   "outputs": [
    {
     "name": "stdout",
     "output_type": "stream",
     "text": [
      "Enter LIST size\n"
     ]
    },
    {
     "name": "stdin",
     "output_type": "stream",
     "text": [
      " 5\n",
      " 4\n",
      " 10\n",
      " 20\n",
      " -30\n",
      " -40\n"
     ]
    },
    {
     "name": "stdout",
     "output_type": "stream",
     "text": [
      "34\n",
      "-70\n"
     ]
    }
   ],
   "source": [
    "#develop a python program to find the sum of positive elements and negative elements in a list.\n",
    "\n",
    "print(\"Enter LIST size\")\n",
    "size = int(input())\n",
    "list = []\n",
    "for i in range(size):\n",
    "    val = int(input())\n",
    "    list.append(val)\n",
    "positive_sum = 0\n",
    "negative_sum = 0\n",
    "\n",
    "for i in list:\n",
    "    if i < 0:\n",
    "        negative_sum += i\n",
    "    else:\n",
    "        positive_sum += i\n",
    "print(positive_sum)\n",
    "print(negative_sum)"
   ]
  },
  {
   "cell_type": "code",
   "execution_count": 3,
   "id": "41e9cb73-d4a0-423c-9b96-6fe80dc3de10",
   "metadata": {},
   "outputs": [
    {
     "name": "stdin",
     "output_type": "stream",
     "text": [
      " Uday kiran K\n",
      " uday\n"
     ]
    },
    {
     "name": "stdout",
     "output_type": "stream",
     "text": [
      "True\n"
     ]
    }
   ],
   "source": [
    "#Write a program to check if two strings are balanced. For example, strings s1 and s2 are balanced if all the characters in the s1 are present in s2. \n",
    "#The character’s position doesn’t matter. If balanced display as \"true\" ,otherwise \"false\".\n",
    "\n",
    "s1 = input()\n",
    "s2 = input()\n",
    "fault = 0\n",
    "if len(s1) <= len(s2):\n",
    "    for char in s1:\n",
    "        if char not in s2:\n",
    "            fault = 1\n",
    "        else:\n",
    "            continue\n",
    "\n",
    "if(fault == 0):\n",
    "    print(True)\n",
    "else:\n",
    "    print(False)"
   ]
  },
  {
   "cell_type": "code",
   "execution_count": null,
   "id": "3b55f282-904c-4206-9f83-ab8fc634e077",
   "metadata": {},
   "outputs": [
    {
     "name": "stdin",
     "output_type": "stream",
     "text": [
      " 5\n",
      " 10\n",
      " 8\n",
      " 56\n",
      " 8\n",
      " 0\n"
     ]
    }
   ],
   "source": [
    "#Write a program to print all the locations at which a particular element (taken as input) is found in a list and also print the total number of times \n",
    "#it occurs in the list. The location starts from 1.\n",
    "\n",
    "size = int(input())\n",
    "list = []\n",
    "for i in range(size):\n",
    "    val = int(input())\n",
    "    list.append(val)\n",
    "\n",
    "key = int(input())\n",
    "count = 0\n",
    "for i in range(len(list)):\n",
    "    if(list[i] == key):\n",
    "        print(\"{} is present at location {}.\".format(key,i+1))\n",
    "        count += 1\n",
    "    else:\n",
    "        continue\n",
    "\n",
    "if(count == 0):\n",
    "    print(\"{} is not present in the array.\".format(key))\n",
    "else:\n",
    "    print(\"{} is present {} times in the array.\".format(key,count))"
   ]
  },
  {
   "cell_type": "code",
   "execution_count": null,
   "id": "573c4ce4-64c9-481a-8dff-3152214ee888",
   "metadata": {},
   "outputs": [],
   "source": []
  }
 ],
 "metadata": {
  "kernelspec": {
   "display_name": "Python 3 (ipykernel)",
   "language": "python",
   "name": "python3"
  },
  "language_info": {
   "codemirror_mode": {
    "name": "ipython",
    "version": 3
   },
   "file_extension": ".py",
   "mimetype": "text/x-python",
   "name": "python",
   "nbconvert_exporter": "python",
   "pygments_lexer": "ipython3",
   "version": "3.11.7"
  }
 },
 "nbformat": 4,
 "nbformat_minor": 5
}
